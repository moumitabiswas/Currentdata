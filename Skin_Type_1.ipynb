{
  "nbformat": 4,
  "nbformat_minor": 0,
  "metadata": {
    "colab": {
      "name": "Skin_Type_1.ipynb",
      "provenance": [],
      "collapsed_sections": [],
      "mount_file_id": "1RXbU-hgzsDmMjb42MqAaRkkSe1h01mCo",
      "authorship_tag": "ABX9TyM4Rp70e6PM0gcRnhTXqiAF",
      "include_colab_link": true
    },
    "kernelspec": {
      "name": "python3",
      "display_name": "Python 3"
    },
    "language_info": {
      "name": "python"
    }
  },
  "cells": [
    {
      "cell_type": "markdown",
      "metadata": {
        "id": "view-in-github",
        "colab_type": "text"
      },
      "source": [
        "<a href=\"https://colab.research.google.com/github/moumitabiswas/Currentdata/blob/master/Skin_Type_1.ipynb\" target=\"_parent\"><img src=\"https://colab.research.google.com/assets/colab-badge.svg\" alt=\"Open In Colab\"/></a>"
      ]
    },
    {
      "cell_type": "code",
      "metadata": {
        "colab": {
          "base_uri": "https://localhost:8080/"
        },
        "id": "A_qGW09D_V8i",
        "outputId": "82b1d9be-a5ea-4ad8-96f2-b3e935edae3b"
      },
      "source": [
        "import tensorflow as tf\n",
        "print(tf.__version__)\n",
        "import tensorflow_hub as hub\n",
        "import matplotlib.pyplot as plt\n",
        "import numpy as np\n",
        "import pandas as pd\n",
        "import seaborn as sns\n",
        "import keras\n",
        "from tensorflow.keras.utils import get_file\n",
        "from sklearn.metrics import roc_curve, auc, confusion_matrix\n",
        "from imblearn.metrics import sensitivity_score, specificity_score\n",
        "from keras import backend as K\n",
        "from keras.layers.core import Dense, Dropout\n",
        "from keras.optimizers import Adam\n",
        "from keras.preprocessing.image import ImageDataGenerator\n",
        "from keras.models import Model\n",
        "from keras.callbacks import ReduceLROnPlateau, ModelCheckpoint\n",
        "from sklearn.metrics import confusion_matrix\n",
        "import itertools\n",
        "import matplotlib.pyplot as plt"
      ],
      "execution_count": null,
      "outputs": [
        {
          "output_type": "stream",
          "text": [
            "2.5.0\n"
          ],
          "name": "stdout"
        },
        {
          "output_type": "stream",
          "text": [
            "/usr/local/lib/python3.7/dist-packages/sklearn/externals/six.py:31: FutureWarning: The module is deprecated in version 0.21 and will be removed in version 0.23 since we've dropped support for Python 2.7. Please rely on the official version of six (https://pypi.org/project/six/).\n",
            "  \"(https://pypi.org/project/six/).\", FutureWarning)\n",
            "/usr/local/lib/python3.7/dist-packages/sklearn/utils/deprecation.py:144: FutureWarning: The sklearn.neighbors.base module is  deprecated in version 0.22 and will be removed in version 0.24. The corresponding classes / functions should instead be imported from sklearn.neighbors. Anything that cannot be imported from sklearn.neighbors is now part of the private API.\n",
            "  warnings.warn(message, FutureWarning)\n",
            "/usr/local/lib/python3.7/dist-packages/sklearn/utils/deprecation.py:144: FutureWarning: The sklearn.metrics.classification module is  deprecated in version 0.22 and will be removed in version 0.24. The corresponding classes / functions should instead be imported from sklearn.metrics. Anything that cannot be imported from sklearn.metrics is now part of the private API.\n",
            "  warnings.warn(message, FutureWarning)\n"
          ],
          "name": "stderr"
        }
      ]
    },
    {
      "cell_type": "code",
      "metadata": {
        "id": "EfosHXAq4Wei"
      },
      "source": [
        "import matplotlib.pyplot as plt\n",
        "import seaborn as sns\n",
        "\n",
        "import keras\n",
        "from keras.models import Sequential\n",
        "from keras.layers import Dense, Conv2D , MaxPool2D , Flatten , Dropout \n",
        "from keras.preprocessing.image import ImageDataGenerator\n",
        "from keras.optimizers import Adam\n",
        "\n",
        "from sklearn.metrics import classification_report,confusion_matrix\n",
        "\n",
        "import tensorflow as tf\n",
        "\n",
        "import cv2\n",
        "import os\n"
      ],
      "execution_count": null,
      "outputs": []
    },
    {
      "cell_type": "code",
      "metadata": {
        "id": "FbDFuG3MA7dL"
      },
      "source": [
        "# from google.colab import files\n",
        "# uploaded = files.upload()"
      ],
      "execution_count": null,
      "outputs": []
    },
    {
      "cell_type": "code",
      "metadata": {
        "colab": {
          "base_uri": "https://localhost:8080/",
          "height": 35
        },
        "id": "D3CkbyYdFAX2",
        "outputId": "66638f01-6d16-468f-d443-6624bfe9718a"
      },
      "source": [
        "import os\n",
        "os.getcwd()"
      ],
      "execution_count": null,
      "outputs": [
        {
          "output_type": "execute_result",
          "data": {
            "application/vnd.google.colaboratory.intrinsic+json": {
              "type": "string"
            },
            "text/plain": [
              "'/content'"
            ]
          },
          "metadata": {
            "tags": []
          },
          "execution_count": 3
        }
      ]
    },
    {
      "cell_type": "code",
      "metadata": {
        "id": "wTey8532WV2W"
      },
      "source": [
        ""
      ],
      "execution_count": null,
      "outputs": []
    },
    {
      "cell_type": "code",
      "metadata": {
        "colab": {
          "base_uri": "https://localhost:8080/"
        },
        "id": "N8vV6JqYZmeL",
        "outputId": "ac7be862-bd40-44fe-b015-81cf9457a6cd"
      },
      "source": [
        "#number of images in the training set\n",
        "num_train_samples = 78\n",
        "#number of images in the evaluation set\n",
        "num_val_samples = 18\n",
        "#number of images in every forward/backwards pass\n",
        "train_batch_size = 5\n",
        "val_batch_size = 3\n",
        "#dimensions of the image that will be inputed into the network (224x224)\n",
        "image_size = 224\n",
        "\n",
        "# Declare how many steps are needed in an iteration\n",
        "train_steps = np.ceil(num_train_samples / train_batch_size)\n",
        "val_steps = np.ceil(num_val_samples / val_batch_size)\n",
        "\n",
        "train_steps,val_steps"
      ],
      "execution_count": null,
      "outputs": [
        {
          "output_type": "execute_result",
          "data": {
            "text/plain": [
              "(16.0, 6.0)"
            ]
          },
          "metadata": {
            "tags": []
          },
          "execution_count": 4
        }
      ]
    },
    {
      "cell_type": "code",
      "metadata": {
        "id": "daT6hmklh1KX"
      },
      "source": [
        "os.chdir(train_path)"
      ],
      "execution_count": null,
      "outputs": []
    },
    {
      "cell_type": "code",
      "metadata": {
        "id": "_aaSkouMh6nv"
      },
      "source": [
        "train_datagen = ImageDataGenerator(\n",
        "    rescale=1./255,\n",
        "    shear_range=0.2,\n",
        "    zoom_range=0.2,\n",
        "    horizontal_flip=True)\n"
      ],
      "execution_count": null,
      "outputs": []
    },
    {
      "cell_type": "code",
      "metadata": {
        "id": "QqjvqW3qjjCY"
      },
      "source": [
        "from keras.preprocessing.image import ImageDataGenerator\n",
        "\n",
        "# train_generator = train_datagen.flow_from_directory(\n",
        "#     directory=r\"/content/Train\",\n",
        "#     target_size=(224, 224),\n",
        "#     color_mode=\"rgb\",\n",
        "#     batch_size=32,\n",
        "#     class_mode=\"categorical\",\n",
        "#     shuffle=True,\n",
        "#     seed=42\n",
        "# )"
      ],
      "execution_count": null,
      "outputs": []
    },
    {
      "cell_type": "code",
      "metadata": {
        "id": "wI229U4NiIPR"
      },
      "source": [
        "STEP_SIZE_TRAIN=train_generator.n//train_generator.batch_size"
      ],
      "execution_count": null,
      "outputs": []
    },
    {
      "cell_type": "code",
      "metadata": {
        "id": "dIf6MtANiRoa"
      },
      "source": [
        "labels = [\"dryskin\", \"oilyskin\"]\n",
        "target_size=(224, 224)\n",
        "def get_data(data_dir):\n",
        "    data = [] \n",
        "    for label in labels: \n",
        "        path = os.path.join(data_dir, label)\n",
        "        class_num = labels.index(label)\n",
        "        for img in os.listdir(path):\n",
        "            try:\n",
        "                img_arr = cv2.imread(os.path.join(path, img))[...,::-1] #convert BGR to RGB format\n",
        "                resized_arr = cv2.resize(img_arr, target_size) # Reshaping images to preferred size\n",
        "                data.append([resized_arr, class_num])\n",
        "            except Exception as e:\n",
        "                print(e)\n",
        "    return np.array(data)\n"
      ],
      "execution_count": null,
      "outputs": []
    },
    {
      "cell_type": "code",
      "metadata": {
        "colab": {
          "base_uri": "https://localhost:8080/"
        },
        "id": "Gw8ghbYz4d1Y",
        "outputId": "4ea4202b-0280-471a-ef8b-54edf66eb9c5"
      },
      "source": [
        "train_path = '/content/drive/MyDrive/All_Python/Training'\n",
        "valid_path = '/content/drive/MyDrive/All_Python/Validation'\n",
        "\n",
        "train = get_data(train_path)\n",
        "val = get_data(valid_path)"
      ],
      "execution_count": null,
      "outputs": [
        {
          "output_type": "stream",
          "text": [
            "/usr/local/lib/python3.7/dist-packages/ipykernel_launcher.py:15: VisibleDeprecationWarning: Creating an ndarray from ragged nested sequences (which is a list-or-tuple of lists-or-tuples-or ndarrays with different lengths or shapes) is deprecated. If you meant to do this, you must specify 'dtype=object' when creating the ndarray\n",
            "  from ipykernel import kernelapp as app\n"
          ],
          "name": "stderr"
        }
      ]
    },
    {
      "cell_type": "code",
      "metadata": {
        "id": "86pV9i6PYP37"
      },
      "source": [
        "test_path = '/content/Test'\n",
        "# test = get_data(test_path)"
      ],
      "execution_count": null,
      "outputs": []
    },
    {
      "cell_type": "code",
      "metadata": {
        "id": "zHwEu63l5zNo"
      },
      "source": [
        "# train"
      ],
      "execution_count": null,
      "outputs": []
    },
    {
      "cell_type": "code",
      "metadata": {
        "id": "iOZDAW6D6PPH"
      },
      "source": [
        "img_size=224\n",
        "x_train = []\n",
        "y_train = []\n",
        "x_val = []\n",
        "y_val = []\n",
        "\n",
        "for feature, label in train:\n",
        "  x_train.append(feature)\n",
        "  y_train.append(label)\n",
        "\n",
        "for feature, label in val:\n",
        "  x_val.append(feature)\n",
        "  y_val.append(label)\n",
        "\n",
        "# Normalize the data\n",
        "x_train = np.array(x_train) / 255\n",
        "x_val = np.array(x_val) / 255\n",
        "\n",
        "x_train.reshape(-1, img_size, img_size, 1)\n",
        "y_train = np.array(y_train)\n",
        "\n",
        "x_val.reshape(-1, img_size, img_size, 1)\n",
        "y_val = np.array(y_val)\n"
      ],
      "execution_count": null,
      "outputs": []
    },
    {
      "cell_type": "code",
      "metadata": {
        "id": "dPVsJxCX6iZ5"
      },
      "source": [
        "datagen = ImageDataGenerator(\n",
        "        featurewise_center=False,  # set input mean to 0 over the dataset\n",
        "        samplewise_center=False,  # set each sample mean to 0\n",
        "        featurewise_std_normalization=False,  # divide inputs by std of the dataset\n",
        "        samplewise_std_normalization=False,  # divide each input by its std\n",
        "        zca_whitening=False,  # apply ZCA whitening\n",
        "        rotation_range = 30,  # randomly rotate images in the range (degrees, 0 to 180)\n",
        "        zoom_range = 0.2, # Randomly zoom image \n",
        "        width_shift_range=0.1,  # randomly shift images horizontally (fraction of total width)\n",
        "        height_shift_range=0.1,  # randomly shift images vertically (fraction of total height)\n",
        "        horizontal_flip = True,  # randomly flip images\n",
        "        vertical_flip=False)  # randomly flip images\n",
        "\n",
        "\n",
        "datagen.fit(x_train)"
      ],
      "execution_count": null,
      "outputs": []
    },
    {
      "cell_type": "code",
      "metadata": {
        "colab": {
          "base_uri": "https://localhost:8080/"
        },
        "id": "dsfHex4S6q7B",
        "outputId": "d46b4d77-25a3-4479-c875-d42a40a80447"
      },
      "source": [
        "model = Sequential()\n",
        "model.add(Conv2D(32,3,padding=\"same\", activation=\"relu\", input_shape=(224,224,3)))\n",
        "model.add(MaxPool2D())\n",
        "\n",
        "model.add(Conv2D(32, 3, padding=\"same\", activation=\"relu\"))\n",
        "model.add(MaxPool2D())\n",
        "\n",
        "model.add(Conv2D(64, 3, padding=\"same\", activation=\"relu\"))\n",
        "model.add(MaxPool2D())\n",
        "model.add(Dropout(0.4))\n",
        "\n",
        "model.add(Flatten())\n",
        "model.add(Dense(128,activation=\"relu\"))\n",
        "model.add(Dense(2, activation=\"softmax\"))\n",
        "\n",
        "model.summary()"
      ],
      "execution_count": null,
      "outputs": [
        {
          "output_type": "stream",
          "text": [
            "Model: \"sequential\"\n",
            "_________________________________________________________________\n",
            "Layer (type)                 Output Shape              Param #   \n",
            "=================================================================\n",
            "conv2d (Conv2D)              (None, 224, 224, 32)      896       \n",
            "_________________________________________________________________\n",
            "max_pooling2d (MaxPooling2D) (None, 112, 112, 32)      0         \n",
            "_________________________________________________________________\n",
            "conv2d_1 (Conv2D)            (None, 112, 112, 32)      9248      \n",
            "_________________________________________________________________\n",
            "max_pooling2d_1 (MaxPooling2 (None, 56, 56, 32)        0         \n",
            "_________________________________________________________________\n",
            "conv2d_2 (Conv2D)            (None, 56, 56, 64)        18496     \n",
            "_________________________________________________________________\n",
            "max_pooling2d_2 (MaxPooling2 (None, 28, 28, 64)        0         \n",
            "_________________________________________________________________\n",
            "dropout (Dropout)            (None, 28, 28, 64)        0         \n",
            "_________________________________________________________________\n",
            "flatten (Flatten)            (None, 50176)             0         \n",
            "_________________________________________________________________\n",
            "dense (Dense)                (None, 128)               6422656   \n",
            "_________________________________________________________________\n",
            "dense_1 (Dense)              (None, 2)                 258       \n",
            "=================================================================\n",
            "Total params: 6,451,554\n",
            "Trainable params: 6,451,554\n",
            "Non-trainable params: 0\n",
            "_________________________________________________________________\n"
          ],
          "name": "stdout"
        }
      ]
    },
    {
      "cell_type": "code",
      "metadata": {
        "id": "E1SK80kq6xqh"
      },
      "source": [
        "# opt = Adam(lr=0.000001)\n",
        "opt = keras.optimizers.Adam(learning_rate=0.00001)\n",
        "model.compile(optimizer = opt , loss = tf.keras.losses.SparseCategoricalCrossentropy(from_logits=True) , metrics = ['accuracy'])"
      ],
      "execution_count": null,
      "outputs": []
    },
    {
      "cell_type": "code",
      "metadata": {
        "id": "1Ao1CRXk6ysZ"
      },
      "source": [
        "history = model.fit(x_train,y_train,epochs = 300 , validation_data = (x_val, y_val))"
      ],
      "execution_count": null,
      "outputs": []
    },
    {
      "cell_type": "code",
      "metadata": {
        "colab": {
          "base_uri": "https://localhost:8080/"
        },
        "id": "1hnqK3VOCj2A",
        "outputId": "1ef948e6-edac-4bed-c116-cca441b58ae3"
      },
      "source": [
        "from google.colab import drive\n",
        "drive.mount('/content/gdrive')"
      ],
      "execution_count": null,
      "outputs": [
        {
          "output_type": "stream",
          "text": [
            "Mounted at /content/gdrive\n"
          ],
          "name": "stdout"
        }
      ]
    },
    {
      "cell_type": "code",
      "metadata": {
        "colab": {
          "base_uri": "https://localhost:8080/"
        },
        "id": "8YQb5oaiBQm4",
        "outputId": "8cae5251-5d87-4b0c-b92f-dac26822987c"
      },
      "source": [
        "import torch\n",
        "model_save_name = 'classifier.pt'\n",
        "path = '/content/gdrive/MyDrive/All_Python'\n",
        "os.chdir(path)\n",
        "from tensorflow.keras.models import save_model, load_model\n",
        "save_model(model,'mymodel.model')\n",
        "# torch.save(model.state_dict(), path)"
      ],
      "execution_count": null,
      "outputs": [
        {
          "output_type": "stream",
          "text": [
            "INFO:tensorflow:Assets written to: mymodel.model/assets\n"
          ],
          "name": "stdout"
        }
      ]
    },
    {
      "cell_type": "code",
      "metadata": {
        "id": "12kS6PNeDqn2"
      },
      "source": [
        "# model_path = '/content/gdrive/MyDrive/All_Python/{model_save_name}'\n",
        "# new_model = "
      ],
      "execution_count": null,
      "outputs": []
    },
    {
      "cell_type": "code",
      "metadata": {
        "colab": {
          "base_uri": "https://localhost:8080/",
          "height": 435
        },
        "id": "U9f04b_c6zG_",
        "outputId": "98f8019c-ea60-4a16-fd2d-6a06bee2ce47"
      },
      "source": [
        "acc = history.history['accuracy']\n",
        "val_acc = history.history['val_accuracy']\n",
        "loss = history.history['loss']\n",
        "val_loss = history.history['val_loss']\n",
        "\n",
        "epochs_range = range(300)\n",
        "\n",
        "plt.figure(figsize=(15, 15))\n",
        "plt.subplot(2, 2, 1)\n",
        "plt.plot(epochs_range, acc, label='Training Accuracy')\n",
        "plt.plot(epochs_range, val_acc, label='Validation Accuracy')\n",
        "plt.legend(loc='lower right')\n",
        "plt.title('Training and Validation Accuracy')\n",
        "\n",
        "plt.subplot(2, 2, 2)\n",
        "plt.plot(epochs_range, loss, label='Training Loss')\n",
        "plt.plot(epochs_range, val_loss, label='Validation Loss')\n",
        "plt.legend(loc='upper right')\n",
        "plt.title('Training and Validation Loss')\n",
        "plt.show()"
      ],
      "execution_count": null,
      "outputs": [
        {
          "output_type": "display_data",
          "data": {
            "image/png": "[encoded data removed]",
            "text/plain": [
              "<Figure size 1080x1080 with 2 Axes>"
            ]
          },
          "metadata": {
            "tags": [],
            "needs_background": "light"
          }
        }
      ]
    },
    {
      "cell_type": "code",
      "metadata": {
        "id": "zKg9mJqsXn7W",
        "colab": {
          "base_uri": "https://localhost:8080/"
        },
        "outputId": "c440aa23-c1ac-4300-f69c-e60da6e9ae6e"
      },
      "source": [
        "acc = history.history['accuracy']\n",
        "val_acc = history.history['val_accuracy']\n",
        "loss = history.history['loss']\n",
        "val_loss = history.history['val_loss']\n",
        "\n",
        "epochs_range = range(300)\n",
        "print(acc)"
      ],
      "execution_count": null,
      "outputs": [
        {
          "output_type": "stream",
          "text": [
            "[0.5, 0.5128205418586731, 0.5512820482254028, 0.5128205418586731, 0.5769230723381042, 0.5512820482254028, 0.5641025900840759, 0.5512820482254028, 0.5512820482254028, 0.6025640964508057, 0.6282051205635071, 0.6153846383094788, 0.6025640964508057, 0.6410256624221802, 0.6538461446762085, 0.6538461446762085, 0.6410256624221802, 0.6153846383094788, 0.6538461446762085, 0.6794871687889099, 0.6282051205635071, 0.6282051205635071, 0.6025640964508057, 0.6410256624221802, 0.6794871687889099, 0.6282051205635071, 0.692307710647583, 0.6282051205635071, 0.6538461446762085, 0.6282051205635071, 0.7179487347602844, 0.6666666865348816, 0.6794871687889099, 0.6794871687889099, 0.6410256624221802, 0.6538461446762085, 0.6282051205635071, 0.6666666865348816, 0.7179487347602844, 0.7051281929016113, 0.6794871687889099, 0.6666666865348816, 0.6794871687889099, 0.6666666865348816, 0.7179487347602844, 0.692307710647583, 0.692307710647583, 0.6666666865348816, 0.7051281929016113, 0.7051281929016113, 0.7051281929016113, 0.692307710647583, 0.7051281929016113, 0.692307710647583, 0.6794871687889099, 0.7179487347602844, 0.6538461446762085, 0.7179487347602844, 0.692307710647583, 0.6794871687889099, 0.7435897588729858, 0.6666666865348816, 0.692307710647583, 0.7051281929016113, 0.7179487347602844, 0.7051281929016113, 0.7307692170143127, 0.6794871687889099, 0.7051281929016113, 0.7179487347602844, 0.692307710647583, 0.7051281929016113, 0.7564102411270142, 0.7307692170143127, 0.7307692170143127, 0.7307692170143127, 0.6794871687889099, 0.7564102411270142, 0.692307710647583, 0.7564102411270142, 0.7051281929016113, 0.7564102411270142, 0.7307692170143127, 0.7051281929016113, 0.7307692170143127, 0.7179487347602844, 0.7435897588729858, 0.7564102411270142, 0.7179487347602844, 0.7051281929016113, 0.7564102411270142, 0.7692307829856873, 0.7564102411270142, 0.7307692170143127, 0.7435897588729858, 0.7564102411270142, 0.7179487347602844, 0.7435897588729858, 0.7692307829856873, 0.7692307829856873, 0.7692307829856873, 0.7692307829856873, 0.7692307829856873, 0.7564102411270142, 0.7435897588729858, 0.7820512652397156, 0.7820512652397156, 0.7692307829856873, 0.7564102411270142, 0.7564102411270142, 0.7435897588729858, 0.7820512652397156, 0.7692307829856873, 0.7820512652397156, 0.7948718070983887, 0.8205128312110901, 0.7948718070983887, 0.7692307829856873, 0.7948718070983887, 0.7948718070983887, 0.7820512652397156, 0.7564102411270142, 0.7820512652397156, 0.7820512652397156, 0.7820512652397156, 0.7692307829856873, 0.8205128312110901, 0.7692307829856873, 0.7948718070983887, 0.7948718070983887, 0.7948718070983887, 0.807692289352417, 0.7948718070983887, 0.7948718070983887, 0.7820512652397156, 0.807692289352417, 0.7948718070983887, 0.807692289352417, 0.7948718070983887, 0.7820512652397156, 0.7948718070983887, 0.807692289352417, 0.7820512652397156, 0.8333333134651184, 0.7948718070983887, 0.7820512652397156, 0.7948718070983887, 0.807692289352417, 0.8205128312110901, 0.7948718070983887, 0.7820512652397156, 0.807692289352417, 0.8205128312110901, 0.8333333134651184, 0.8333333134651184, 0.8205128312110901, 0.8205128312110901, 0.807692289352417, 0.8205128312110901, 0.807692289352417, 0.7948718070983887, 0.8461538553237915, 0.8461538553237915, 0.8205128312110901, 0.8205128312110901, 0.8461538553237915, 0.8333333134651184, 0.8333333134651184, 0.8589743375778198, 0.8589743375778198, 0.807692289352417, 0.8461538553237915, 0.8333333134651184, 0.8461538553237915, 0.8589743375778198, 0.8333333134651184, 0.8461538553237915, 0.8589743375778198, 0.8846153616905212, 0.8461538553237915, 0.8589743375778198, 0.8589743375778198, 0.8717948794364929, 0.8589743375778198, 0.8717948794364929, 0.8333333134651184, 0.8717948794364929, 0.8461538553237915, 0.8461538553237915, 0.8589743375778198, 0.8461538553237915, 0.8589743375778198, 0.8974359035491943, 0.8846153616905212, 0.8461538553237915, 0.8461538553237915, 0.8589743375778198, 0.8205128312110901, 0.8461538553237915, 0.8333333134651184, 0.8589743375778198, 0.8461538553237915, 0.8846153616905212, 0.8589743375778198, 0.8589743375778198, 0.807692289352417, 0.8717948794364929, 0.9102563858032227, 0.8589743375778198, 0.8846153616905212, 0.8846153616905212, 0.8846153616905212, 0.8974359035491943, 0.8846153616905212, 0.8846153616905212, 0.8974359035491943, 0.8717948794364929, 0.8974359035491943, 0.9230769276618958, 0.8846153616905212, 0.8974359035491943, 0.9102563858032227, 0.8974359035491943, 0.8974359035491943, 0.8846153616905212, 0.8974359035491943, 0.8974359035491943, 0.8846153616905212, 0.8846153616905212, 0.9102563858032227, 0.9230769276618958, 0.8846153616905212, 0.9102563858032227, 0.9102563858032227, 0.9102563858032227, 0.8846153616905212, 0.8974359035491943, 0.8974359035491943, 0.8589743375778198, 0.9230769276618958, 0.9102563858032227, 0.9102563858032227, 0.9102563858032227, 0.9487179517745972, 0.9230769276618958, 0.9102563858032227, 0.9358974099159241, 0.9487179517745972, 0.9358974099159241, 0.9487179517745972, 0.9358974099159241, 0.9230769276618958, 0.9358974099159241, 0.9230769276618958, 0.9102563858032227, 0.9358974099159241, 0.9358974099159241, 0.9615384340286255, 0.9230769276618958, 0.9358974099159241, 0.9230769276618958, 0.9230769276618958, 0.9487179517745972, 0.9487179517745972, 0.9230769276618958, 0.9358974099159241, 0.9358974099159241, 0.9358974099159241, 0.9487179517745972, 0.9358974099159241, 0.9358974099159241, 0.9487179517745972, 0.9615384340286255, 0.9487179517745972, 0.9615384340286255, 0.9230769276618958, 0.9358974099159241, 0.9487179517745972, 0.9487179517745972, 0.9230769276618958, 0.9358974099159241, 0.9230769276618958, 0.9487179517745972, 0.9487179517745972, 0.9230769276618958, 0.9615384340286255, 0.9615384340286255, 0.9358974099159241, 0.9615384340286255, 0.9615384340286255, 0.9615384340286255, 0.9487179517745972, 0.9615384340286255, 0.9487179517745972, 0.9487179517745972, 0.9871794581413269, 0.9615384340286255, 0.9615384340286255, 0.9487179517745972, 0.9615384340286255]\n"
          ],
          "name": "stdout"
        }
      ]
    },
    {
      "cell_type": "code",
      "metadata": {
        "id": "Ixs4dLnOZnhv"
      },
      "source": [
        "# !ls /content/gdrive/MyDrive\n",
        "# import torch\n",
        "# model_save_name = 'classifier.pt'\n",
        "# path = F\"/content/gdrive/MyDrive/All_Python{model_save_name}\" \n",
        "# # torch.save(model.state_dict(), path)\n",
        "# model.save(path)\n",
        "\n",
        "from keras.models import load_model\n",
        "\n",
        "# model.save('my_model.h5') "
      ],
      "execution_count": null,
      "outputs": []
    },
    {
      "cell_type": "code",
      "metadata": {
        "id": "VHDXkr_E47pM"
      },
      "source": [
        "# import torch\n",
        "# model_save_name = 'classifier.pt'\n",
        "\n",
        "# path = F\"/content/gdrive/MyDrive/All_Python{model_save_name}\" \n",
        "\n",
        "# model = load(path)\n",
        "# model.eval()"
      ],
      "execution_count": null,
      "outputs": []
    },
    {
      "cell_type": "code",
      "metadata": {
        "id": "b_X2VwBjUBqD"
      },
      "source": [
        "# x_val"
      ],
      "execution_count": null,
      "outputs": []
    },
    {
      "cell_type": "code",
      "metadata": {
        "id": "kMJi-Fyi-buT"
      },
      "source": [
        "from keras.models import load_model\n",
        "from keras.preprocessing import image\n",
        "import matplotlib.pyplot as plt\n",
        "import numpy as np\n",
        "import os\n",
        "\n",
        "\n",
        "def load_image(img_path, show=False):\n",
        "\n",
        "    img = image.load_img(img_path, target_size=(224, 224))\n",
        "    img_tensor = image.img_to_array(img)                    # (height, width, channels)\n",
        "    img_tensor = np.expand_dims(img_tensor, axis=0)         # (1, height, width, channels), add a dimension because the model expects this shape: (batch_size, height, width, channels)\n",
        "    img_tensor /= 255.                                      # imshow expects values in the range [0, 1]\n",
        "\n",
        "    if show:\n",
        "        plt.imshow(img_tensor[0])                           \n",
        "        plt.axis('off')\n",
        "        plt.show()\n",
        "\n",
        "    return img_tensor\n",
        "\n",
        "\n",
        "\n",
        "   "
      ],
      "execution_count": null,
      "outputs": []
    },
    {
      "cell_type": "code",
      "metadata": {
        "id": "MeBStBS9S5P0"
      },
      "source": [
        "img_path = '/content/drive/MyDrive/All_Python/Test/all_classes/skin-1.jpg'\n",
        "    # load a single image\n",
        "new_image = load_image(img_path)"
      ],
      "execution_count": null,
      "outputs": []
    },
    {
      "cell_type": "code",
      "metadata": {
        "id": "DD32ETYx5Fxy"
      },
      "source": [
        "from IPython.display import Image\n",
        "from google.colab.patches import cv2_imshow\n",
        "os.getcwd()\n",
        "os.chdir('/content/drive/MyDrive/All_Python/Test')\n",
        "# Image('skin-1.jpg',width=100, height=100) \n",
        "\n",
        "from google.colab.patches import cv2_imshow\n",
        "\n",
        "img = cv2.imread('skin-1.jpg', cv2.IMREAD_UNCHANGED)\n",
        "cv2_imshow(img)"
      ],
      "execution_count": null,
      "outputs": []
    },
    {
      "cell_type": "code",
      "metadata": {
        "id": "WOzrUkETQVI_",
        "colab": {
          "base_uri": "https://localhost:8080/"
        },
        "outputId": "b087b7ca-16bc-4273-ff0f-5cb292345039"
      },
      "source": [
        " pred_1 = model.predict(new_image)\n",
        " print(pred_1)"
      ],
      "execution_count": null,
      "outputs": [
        {
          "output_type": "stream",
          "text": [
            "[[0.5924612  0.40753868]]\n"
          ],
          "name": "stdout"
        }
      ]
    },
    {
      "cell_type": "code",
      "metadata": {
        "colab": {
          "base_uri": "https://localhost:8080/"
        },
        "id": "HrIPXwiyp-6K",
        "outputId": "d86123f8-aa43-4063-b13a-3b1109077590"
      },
      "source": [
        "model.predict(new_image)\n"
      ],
      "execution_count": null,
      "outputs": [
        {
          "output_type": "execute_result",
          "data": {
            "text/plain": [
              "array([[0.5924612 , 0.40753868]], dtype=float32)"
            ]
          },
          "metadata": {
            "tags": []
          },
          "execution_count": 21
        }
      ]
    },
    {
      "cell_type": "code",
      "metadata": {
        "colab": {
          "base_uri": "https://localhost:8080/"
        },
        "id": "nQlgMDfFTlTx",
        "outputId": "f031df4d-e962-4902-cfdd-a6fa11893136"
      },
      "source": [
        "pred.argmax(axis=1)\n",
        "pred_1\n",
        "0.5605247+ 0.4394753"
      ],
      "execution_count": null,
      "outputs": [
        {
          "output_type": "execute_result",
          "data": {
            "text/plain": [
              "1.0"
            ]
          },
          "metadata": {
            "tags": []
          },
          "execution_count": 126
        }
      ]
    },
    {
      "cell_type": "code",
      "metadata": {
        "colab": {
          "base_uri": "https://localhost:8080/"
        },
        "id": "I7nMQQoSbKQs",
        "outputId": "85dace90-4ea7-4a6b-da0c-0b8a7cc71032"
      },
      "source": [
        "pred_dir = '/content/drive/MyDrive/All_Python/Test/'\n",
        "\n",
        "test_datagen = ImageDataGenerator()\n",
        "\n",
        "test_generator = test_datagen.flow_from_directory(\n",
        "        directory=pred_dir,\n",
        "        target_size=(224,224),\n",
        "        color_mode=\"rgb\",\n",
        "        shuffle = False,\n",
        "        class_mode='binary',\n",
        "        batch_size=1)\n",
        "\n"
      ],
      "execution_count": null,
      "outputs": [
        {
          "output_type": "stream",
          "text": [
            "Found 5 images belonging to 2 classes.\n"
          ],
          "name": "stdout"
        }
      ]
    },
    {
      "cell_type": "code",
      "metadata": {
        "colab": {
          "base_uri": "https://localhost:8080/"
        },
        "id": "N-8-PUj-mdIu",
        "outputId": "7e5a8747-9cbf-43e1-ee35-34539dcb686b"
      },
      "source": [
        "pred=model.predict(test_generator, steps=len(test_generator), verbose=1)"
      ],
      "execution_count": null,
      "outputs": [
        {
          "output_type": "stream",
          "text": [
            "5/5 [==============================] - 0s 28ms/step\n"
          ],
          "name": "stdout"
        }
      ]
    },
    {
      "cell_type": "code",
      "metadata": {
        "colab": {
          "base_uri": "https://localhost:8080/"
        },
        "id": "a_0e5hAwn7Qr",
        "outputId": "19a98200-9ce4-4c80-b9cc-8789a5b12bff"
      },
      "source": [
        "pred"
      ],
      "execution_count": null,
      "outputs": [
        {
          "output_type": "execute_result",
          "data": {
            "text/plain": [
              "array([[0.0000000e+00, 1.0000000e+00],\n",
              "       [0.0000000e+00, 1.0000000e+00],\n",
              "       [0.0000000e+00, 1.0000000e+00],\n",
              "       [2.7893112e-23, 1.0000000e+00],\n",
              "       [1.4451562e-30, 1.0000000e+00]], dtype=float32)"
            ]
          },
          "metadata": {
            "tags": []
          },
          "execution_count": 132
        }
      ]
    },
    {
      "cell_type": "code",
      "metadata": {
        "id": "-yCvGuYQm9iZ"
      },
      "source": [
        "cl = np.round(pred)\n",
        "# Get filenames (set shuffle=false in generator is important)\n",
        "filenames=test_generator.filenames"
      ],
      "execution_count": null,
      "outputs": []
    },
    {
      "cell_type": "code",
      "metadata": {
        "id": "UDKvt3_hnf1L"
      },
      "source": [
        "results=pd.DataFrame({\"file\":filenames,\"pr\":pred[:,0], \"class\":cl[:,0]})"
      ],
      "execution_count": null,
      "outputs": []
    },
    {
      "cell_type": "code",
      "metadata": {
        "colab": {
          "base_uri": "https://localhost:8080/",
          "height": 203
        },
        "id": "sFF1ga8XnjZP",
        "outputId": "f5d84b33-1b1a-450f-d9a5-dd187ca1cbab"
      },
      "source": [
        "results"
      ],
      "execution_count": null,
      "outputs": [
        {
          "output_type": "execute_result",
          "data": {
            "text/html": [
              "<div>\n",
              "<style scoped>\n",
              "    .dataframe tbody tr th:only-of-type {\n",
              "        vertical-align: middle;\n",
              "    }\n",
              "\n",
              "    .dataframe tbody tr th {\n",
              "        vertical-align: top;\n",
              "    }\n",
              "\n",
              "    .dataframe thead th {\n",
              "        text-align: right;\n",
              "    }\n",
              "</style>\n",
              "<table border=\"1\" class=\"dataframe\">\n",
              "  <thead>\n",
              "    <tr style=\"text-align: right;\">\n",
              "      <th></th>\n",
              "      <th>file</th>\n",
              "      <th>pr</th>\n",
              "      <th>class</th>\n",
              "    </tr>\n",
              "  </thead>\n",
              "  <tbody>\n",
              "    <tr>\n",
              "      <th>0</th>\n",
              "      <td>all_classes/skin-1.jpg</td>\n",
              "      <td>0.000000e+00</td>\n",
              "      <td>0.0</td>\n",
              "    </tr>\n",
              "    <tr>\n",
              "      <th>1</th>\n",
              "      <td>all_classes/skin-2.jpg</td>\n",
              "      <td>0.000000e+00</td>\n",
              "      <td>0.0</td>\n",
              "    </tr>\n",
              "    <tr>\n",
              "      <th>2</th>\n",
              "      <td>all_classes/skin-3.jpg</td>\n",
              "      <td>0.000000e+00</td>\n",
              "      <td>0.0</td>\n",
              "    </tr>\n",
              "    <tr>\n",
              "      <th>3</th>\n",
              "      <td>all_classes/skin-4.jpg</td>\n",
              "      <td>2.789311e-23</td>\n",
              "      <td>0.0</td>\n",
              "    </tr>\n",
              "    <tr>\n",
              "      <th>4</th>\n",
              "      <td>all_classes/skin-5.jpg</td>\n",
              "      <td>1.445156e-30</td>\n",
              "      <td>0.0</td>\n",
              "    </tr>\n",
              "  </tbody>\n",
              "</table>\n",
              "</div>"
            ],
            "text/plain": [
              "                     file            pr  class\n",
              "0  all_classes/skin-1.jpg  0.000000e+00    0.0\n",
              "1  all_classes/skin-2.jpg  0.000000e+00    0.0\n",
              "2  all_classes/skin-3.jpg  0.000000e+00    0.0\n",
              "3  all_classes/skin-4.jpg  2.789311e-23    0.0\n",
              "4  all_classes/skin-5.jpg  1.445156e-30    0.0"
            ]
          },
          "metadata": {
            "tags": []
          },
          "execution_count": 122
        }
      ]
    },
    {
      "cell_type": "code",
      "metadata": {
        "id": "MOhOsFjikqVC"
      },
      "source": [
        "os.getcwd()\n",
        "os.chdir('/content/drive/MyDrive/All_Python/Test')"
      ],
      "execution_count": null,
      "outputs": []
    }
  ]
}